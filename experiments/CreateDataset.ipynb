{
 "cells": [
  {
   "cell_type": "code",
   "execution_count": 1,
   "id": "17cd0f5d",
   "metadata": {
    "_cell_guid": "b1076dfc-b9ad-4769-8c92-a6c4dae69d19",
    "_uuid": "8f2839f25d086af736a60e9eeb907d3b93b6e0e5",
    "execution": {
     "iopub.execute_input": "2024-11-25T15:44:00.729886Z",
     "iopub.status.busy": "2024-11-25T15:44:00.729506Z",
     "iopub.status.idle": "2024-11-25T15:44:01.621947Z",
     "shell.execute_reply": "2024-11-25T15:44:01.621134Z"
    },
    "papermill": {
     "duration": 0.899702,
     "end_time": "2024-11-25T15:44:01.624266",
     "exception": false,
     "start_time": "2024-11-25T15:44:00.724564",
     "status": "completed"
    },
    "tags": []
   },
   "outputs": [],
   "source": [
    "import pandas as pd\n",
    "import numpy as np\n",
    "import os\n",
    "from PIL import Image\n",
    "import random"
   ]
  },
  {
   "cell_type": "code",
   "execution_count": 2,
   "id": "c494bf53",
   "metadata": {
    "execution": {
     "iopub.execute_input": "2024-11-25T15:44:01.631607Z",
     "iopub.status.busy": "2024-11-25T15:44:01.631137Z",
     "iopub.status.idle": "2024-11-25T15:44:01.635635Z",
     "shell.execute_reply": "2024-11-25T15:44:01.634710Z"
    },
    "papermill": {
     "duration": 0.010088,
     "end_time": "2024-11-25T15:44:01.637642",
     "exception": false,
     "start_time": "2024-11-25T15:44:01.627554",
     "status": "completed"
    },
    "tags": []
   },
   "outputs": [],
   "source": [
    "BASE_DIR = \"/kaggle/input/fashion-product-images-dataset/fashion-dataset/\"\n",
    "IMG_DIR = BASE_DIR + \"images\"\n",
    "working_dir = \"/kaggle/working\""
   ]
  },
  {
   "cell_type": "code",
   "execution_count": 3,
   "id": "b9e05ca8",
   "metadata": {
    "execution": {
     "iopub.execute_input": "2024-11-25T15:44:01.644110Z",
     "iopub.status.busy": "2024-11-25T15:44:01.643790Z",
     "iopub.status.idle": "2024-11-25T15:44:01.836916Z",
     "shell.execute_reply": "2024-11-25T15:44:01.836007Z"
    },
    "papermill": {
     "duration": 0.200213,
     "end_time": "2024-11-25T15:44:01.840438",
     "exception": false,
     "start_time": "2024-11-25T15:44:01.640225",
     "status": "completed"
    },
    "tags": []
   },
   "outputs": [
    {
     "data": {
      "text/html": [
       "<div>\n",
       "<style scoped>\n",
       "    .dataframe tbody tr th:only-of-type {\n",
       "        vertical-align: middle;\n",
       "    }\n",
       "\n",
       "    .dataframe tbody tr th {\n",
       "        vertical-align: top;\n",
       "    }\n",
       "\n",
       "    .dataframe thead th {\n",
       "        text-align: right;\n",
       "    }\n",
       "</style>\n",
       "<table border=\"1\" class=\"dataframe\">\n",
       "  <thead>\n",
       "    <tr style=\"text-align: right;\">\n",
       "      <th></th>\n",
       "      <th>id</th>\n",
       "      <th>gender</th>\n",
       "      <th>masterCategory</th>\n",
       "      <th>subCategory</th>\n",
       "      <th>articleType</th>\n",
       "      <th>baseColour</th>\n",
       "      <th>season</th>\n",
       "      <th>year</th>\n",
       "      <th>usage</th>\n",
       "      <th>productDisplayName</th>\n",
       "    </tr>\n",
       "  </thead>\n",
       "  <tbody>\n",
       "    <tr>\n",
       "      <th>0</th>\n",
       "      <td>15970</td>\n",
       "      <td>Men</td>\n",
       "      <td>Apparel</td>\n",
       "      <td>Topwear</td>\n",
       "      <td>Shirts</td>\n",
       "      <td>Navy Blue</td>\n",
       "      <td>Fall</td>\n",
       "      <td>2011.0</td>\n",
       "      <td>Casual</td>\n",
       "      <td>Turtle Check Men Navy Blue Shirt</td>\n",
       "    </tr>\n",
       "    <tr>\n",
       "      <th>1</th>\n",
       "      <td>39386</td>\n",
       "      <td>Men</td>\n",
       "      <td>Apparel</td>\n",
       "      <td>Bottomwear</td>\n",
       "      <td>Jeans</td>\n",
       "      <td>Blue</td>\n",
       "      <td>Summer</td>\n",
       "      <td>2012.0</td>\n",
       "      <td>Casual</td>\n",
       "      <td>Peter England Men Party Blue Jeans</td>\n",
       "    </tr>\n",
       "    <tr>\n",
       "      <th>2</th>\n",
       "      <td>59263</td>\n",
       "      <td>Women</td>\n",
       "      <td>Accessories</td>\n",
       "      <td>Watches</td>\n",
       "      <td>Watches</td>\n",
       "      <td>Silver</td>\n",
       "      <td>Winter</td>\n",
       "      <td>2016.0</td>\n",
       "      <td>Casual</td>\n",
       "      <td>Titan Women Silver Watch</td>\n",
       "    </tr>\n",
       "    <tr>\n",
       "      <th>3</th>\n",
       "      <td>21379</td>\n",
       "      <td>Men</td>\n",
       "      <td>Apparel</td>\n",
       "      <td>Bottomwear</td>\n",
       "      <td>Track Pants</td>\n",
       "      <td>Black</td>\n",
       "      <td>Fall</td>\n",
       "      <td>2011.0</td>\n",
       "      <td>Casual</td>\n",
       "      <td>Manchester United Men Solid Black Track Pants</td>\n",
       "    </tr>\n",
       "    <tr>\n",
       "      <th>4</th>\n",
       "      <td>53759</td>\n",
       "      <td>Men</td>\n",
       "      <td>Apparel</td>\n",
       "      <td>Topwear</td>\n",
       "      <td>Tshirts</td>\n",
       "      <td>Grey</td>\n",
       "      <td>Summer</td>\n",
       "      <td>2012.0</td>\n",
       "      <td>Casual</td>\n",
       "      <td>Puma Men Grey T-shirt</td>\n",
       "    </tr>\n",
       "    <tr>\n",
       "      <th>...</th>\n",
       "      <td>...</td>\n",
       "      <td>...</td>\n",
       "      <td>...</td>\n",
       "      <td>...</td>\n",
       "      <td>...</td>\n",
       "      <td>...</td>\n",
       "      <td>...</td>\n",
       "      <td>...</td>\n",
       "      <td>...</td>\n",
       "      <td>...</td>\n",
       "    </tr>\n",
       "    <tr>\n",
       "      <th>44419</th>\n",
       "      <td>17036</td>\n",
       "      <td>Men</td>\n",
       "      <td>Footwear</td>\n",
       "      <td>Shoes</td>\n",
       "      <td>Casual Shoes</td>\n",
       "      <td>White</td>\n",
       "      <td>Summer</td>\n",
       "      <td>2013.0</td>\n",
       "      <td>Casual</td>\n",
       "      <td>Gas Men Caddy Casual Shoe</td>\n",
       "    </tr>\n",
       "    <tr>\n",
       "      <th>44420</th>\n",
       "      <td>6461</td>\n",
       "      <td>Men</td>\n",
       "      <td>Footwear</td>\n",
       "      <td>Flip Flops</td>\n",
       "      <td>Flip Flops</td>\n",
       "      <td>Red</td>\n",
       "      <td>Summer</td>\n",
       "      <td>2011.0</td>\n",
       "      <td>Casual</td>\n",
       "      <td>Lotto Men's Soccer Track Flip Flop</td>\n",
       "    </tr>\n",
       "    <tr>\n",
       "      <th>44421</th>\n",
       "      <td>18842</td>\n",
       "      <td>Men</td>\n",
       "      <td>Apparel</td>\n",
       "      <td>Topwear</td>\n",
       "      <td>Tshirts</td>\n",
       "      <td>Blue</td>\n",
       "      <td>Fall</td>\n",
       "      <td>2011.0</td>\n",
       "      <td>Casual</td>\n",
       "      <td>Puma Men Graphic Stellar Blue Tshirt</td>\n",
       "    </tr>\n",
       "    <tr>\n",
       "      <th>44422</th>\n",
       "      <td>46694</td>\n",
       "      <td>Women</td>\n",
       "      <td>Personal Care</td>\n",
       "      <td>Fragrance</td>\n",
       "      <td>Perfume and Body Mist</td>\n",
       "      <td>Blue</td>\n",
       "      <td>Spring</td>\n",
       "      <td>2017.0</td>\n",
       "      <td>Casual</td>\n",
       "      <td>Rasasi Women Blue Lady Perfume</td>\n",
       "    </tr>\n",
       "    <tr>\n",
       "      <th>44423</th>\n",
       "      <td>51623</td>\n",
       "      <td>Women</td>\n",
       "      <td>Accessories</td>\n",
       "      <td>Watches</td>\n",
       "      <td>Watches</td>\n",
       "      <td>Pink</td>\n",
       "      <td>Winter</td>\n",
       "      <td>2016.0</td>\n",
       "      <td>Casual</td>\n",
       "      <td>Fossil Women Pink Dial Chronograph Watch ES3050</td>\n",
       "    </tr>\n",
       "  </tbody>\n",
       "</table>\n",
       "<p>44424 rows × 10 columns</p>\n",
       "</div>"
      ],
      "text/plain": [
       "          id gender masterCategory subCategory            articleType  \\\n",
       "0      15970    Men        Apparel     Topwear                 Shirts   \n",
       "1      39386    Men        Apparel  Bottomwear                  Jeans   \n",
       "2      59263  Women    Accessories     Watches                Watches   \n",
       "3      21379    Men        Apparel  Bottomwear            Track Pants   \n",
       "4      53759    Men        Apparel     Topwear                Tshirts   \n",
       "...      ...    ...            ...         ...                    ...   \n",
       "44419  17036    Men       Footwear       Shoes           Casual Shoes   \n",
       "44420   6461    Men       Footwear  Flip Flops             Flip Flops   \n",
       "44421  18842    Men        Apparel     Topwear                Tshirts   \n",
       "44422  46694  Women  Personal Care   Fragrance  Perfume and Body Mist   \n",
       "44423  51623  Women    Accessories     Watches                Watches   \n",
       "\n",
       "      baseColour  season    year   usage  \\\n",
       "0      Navy Blue    Fall  2011.0  Casual   \n",
       "1           Blue  Summer  2012.0  Casual   \n",
       "2         Silver  Winter  2016.0  Casual   \n",
       "3          Black    Fall  2011.0  Casual   \n",
       "4           Grey  Summer  2012.0  Casual   \n",
       "...          ...     ...     ...     ...   \n",
       "44419      White  Summer  2013.0  Casual   \n",
       "44420        Red  Summer  2011.0  Casual   \n",
       "44421       Blue    Fall  2011.0  Casual   \n",
       "44422       Blue  Spring  2017.0  Casual   \n",
       "44423       Pink  Winter  2016.0  Casual   \n",
       "\n",
       "                                    productDisplayName  \n",
       "0                     Turtle Check Men Navy Blue Shirt  \n",
       "1                   Peter England Men Party Blue Jeans  \n",
       "2                             Titan Women Silver Watch  \n",
       "3        Manchester United Men Solid Black Track Pants  \n",
       "4                                Puma Men Grey T-shirt  \n",
       "...                                                ...  \n",
       "44419                        Gas Men Caddy Casual Shoe  \n",
       "44420               Lotto Men's Soccer Track Flip Flop  \n",
       "44421             Puma Men Graphic Stellar Blue Tshirt  \n",
       "44422                   Rasasi Women Blue Lady Perfume  \n",
       "44423  Fossil Women Pink Dial Chronograph Watch ES3050  \n",
       "\n",
       "[44424 rows x 10 columns]"
      ]
     },
     "execution_count": 3,
     "metadata": {},
     "output_type": "execute_result"
    }
   ],
   "source": [
    "styles = pd.read_csv(\"/kaggle/input/fashion-product-images-dataset/fashion-dataset/styles.csv\", on_bad_lines='skip')\n",
    "styles"
   ]
  },
  {
   "cell_type": "code",
   "execution_count": 4,
   "id": "073c68c7",
   "metadata": {
    "execution": {
     "iopub.execute_input": "2024-11-25T15:44:01.848868Z",
     "iopub.status.busy": "2024-11-25T15:44:01.847904Z",
     "iopub.status.idle": "2024-11-25T15:44:01.863571Z",
     "shell.execute_reply": "2024-11-25T15:44:01.862574Z"
    },
    "papermill": {
     "duration": 0.021521,
     "end_time": "2024-11-25T15:44:01.865442",
     "exception": false,
     "start_time": "2024-11-25T15:44:01.843921",
     "status": "completed"
    },
    "tags": []
   },
   "outputs": [
    {
     "data": {
      "text/plain": [
       "Index(['Tshirts', 'Shirts', 'Casual Shoes', 'Watches', 'Sports Shoes',\n",
       "       'Kurtas', 'Tops', 'Handbags', 'Heels', 'Sunglasses', 'Wallets',\n",
       "       'Flip Flops', 'Sandals', 'Briefs', 'Belts', 'Backpacks', 'Socks',\n",
       "       'Formal Shoes', 'Perfume and Body Mist', 'Jeans'],\n",
       "      dtype='object', name='articleType')"
      ]
     },
     "execution_count": 4,
     "metadata": {},
     "output_type": "execute_result"
    }
   ],
   "source": [
    "top_twenty_articles = styles[\"articleType\"].value_counts()[:20].index\n",
    "top_twenty_articles"
   ]
  },
  {
   "cell_type": "code",
   "execution_count": 5,
   "id": "5ccbc27e",
   "metadata": {
    "execution": {
     "iopub.execute_input": "2024-11-25T15:44:01.873463Z",
     "iopub.status.busy": "2024-11-25T15:44:01.872668Z",
     "iopub.status.idle": "2024-11-25T15:44:01.876719Z",
     "shell.execute_reply": "2024-11-25T15:44:01.875874Z"
    },
    "papermill": {
     "duration": 0.01004,
     "end_time": "2024-11-25T15:44:01.878667",
     "exception": false,
     "start_time": "2024-11-25T15:44:01.868627",
     "status": "completed"
    },
    "tags": []
   },
   "outputs": [],
   "source": [
    "#Lets create our own dataset from these images.\n",
    "# Pick one article at a time (lets collect 200 imags of which 100 will go to train folder, then 50 for val and 50 for test)\n",
    "    #take that articles image id\n",
    "    #make a folder of the article (if exists leave)\n",
    "    #then save that image from the \"images\" folder to working dir."
   ]
  },
  {
   "cell_type": "code",
   "execution_count": 6,
   "id": "2d5561e0",
   "metadata": {
    "execution": {
     "iopub.execute_input": "2024-11-25T15:44:01.885935Z",
     "iopub.status.busy": "2024-11-25T15:44:01.885634Z",
     "iopub.status.idle": "2024-11-25T15:44:01.897376Z",
     "shell.execute_reply": "2024-11-25T15:44:01.896404Z"
    },
    "papermill": {
     "duration": 0.017543,
     "end_time": "2024-11-25T15:44:01.899350",
     "exception": false,
     "start_time": "2024-11-25T15:44:01.881807",
     "status": "completed"
    },
    "tags": []
   },
   "outputs": [
    {
     "name": "stdout",
     "output_type": "stream",
     "text": [
      "[53759, 1855, 7990, 4729, 3954, 5891, 38630, 10866, 15528, 2288, 18237, 13419, 5865, 29584, 9694, 8322, 7964, 17240, 3365, 10065, 5092, 10859, 24062, 30650, 14293, 6041, 9835, 3533, 3701, 53766, 6287, 7355, 43500, 11527, 15187, 20260, 28469, 2243, 44341, 4386, 29789, 7503, 13426, 7963, 20258, 8325, 5862, 58726, 2049, 24892, 38637, 10861, 17278, 31588, 18230, 23871, 3953, 6079, 29321, 40947, 32769, 10439, 1852, 19786, 24091, 41406, 4381, 7504, 22366, 13421, 31543, 2244, 6280, 7352, 2620, 43507, 53795, 12197, 6274, 3706, 15174, 53761, 15346, 40978, 14294, 9832, 3534, 11382, 4375, 17849, 29548, 6610, 17247, 3362, 38608, 10062, 5095, 28467, 4986, 4388, 2843, 3991, 29787, 13428, 19112, 57932, 40985, 7955, 6289, 1890, 15189, 4718, 19582, 26951, 27883, 53768, 54915, 38601, 10857, 20251, 14064, 5433, 27848, 16501, 6084, 34235, 7532, 2040, 3192, 36562, 17285, 2272, 16191, 24053, 10054, 17271, 31581, 3354, 14090, 6242, 17615, 3730, 6070, 26360, 3502, 10602, 4727, 59403, 17249, 29546, 4975, 38606, 10850, 3708, 1863, 15348, 39344, 1897, 40982, 19571, 12199, 7952, 2844, 22368, 2078, 19115, 27428, 40949, 4720, 14097, 17612, 6245, 19788, 10053, 24266, 38639, 17276, 31586, 3353, 24054, 58728, 17282, 2275, 34232, 7535, 2047, 13848, 6083, 25516, 5434, 14063, 20256, 3763, 6211, 5494, 10463, 11783, 9857, 6023, 32959]\n"
     ]
    }
   ],
   "source": [
    "article_styles_df = styles[styles[\"articleType\"] == \"Tshirts\"][:200]\n",
    "article_ids = article_styles_df.id.values.tolist()\n",
    "print(article_ids)"
   ]
  },
  {
   "cell_type": "code",
   "execution_count": 7,
   "id": "6787c2e1",
   "metadata": {
    "execution": {
     "iopub.execute_input": "2024-11-25T15:44:01.907796Z",
     "iopub.status.busy": "2024-11-25T15:44:01.907498Z",
     "iopub.status.idle": "2024-11-25T15:44:01.911635Z",
     "shell.execute_reply": "2024-11-25T15:44:01.910776Z"
    },
    "papermill": {
     "duration": 0.010495,
     "end_time": "2024-11-25T15:44:01.913572",
     "exception": false,
     "start_time": "2024-11-25T15:44:01.903077",
     "status": "completed"
    },
    "tags": []
   },
   "outputs": [],
   "source": [
    "# for i in range(0, 10):\n",
    "#     image_name = article_ids[i]\n",
    "#     image_path = IMG_DIR + \"/\" + f\"{image_name}.jpg\"\n",
    "#     os.makedirs(top_twenty_articles[0], exist_ok=True)\n",
    "#     image_open = Image.open(image_path)\n",
    "#     save_dir = os.path.join(working_dir, top_twenty_articles[0])\n",
    "#     img_save_dir = os.path.join(save_dir, f\"{image_name}.jpg\")\n",
    "#     image_open.save(img_save_dir)"
   ]
  },
  {
   "cell_type": "code",
   "execution_count": 8,
   "id": "0a6adfbe",
   "metadata": {
    "execution": {
     "iopub.execute_input": "2024-11-25T15:44:01.920927Z",
     "iopub.status.busy": "2024-11-25T15:44:01.920637Z",
     "iopub.status.idle": "2024-11-25T15:44:01.924805Z",
     "shell.execute_reply": "2024-11-25T15:44:01.924014Z"
    },
    "papermill": {
     "duration": 0.010091,
     "end_time": "2024-11-25T15:44:01.926834",
     "exception": false,
     "start_time": "2024-11-25T15:44:01.916743",
     "status": "completed"
    },
    "tags": []
   },
   "outputs": [],
   "source": [
    "# top_twenty_articles = styles[\"articleType\"].value_counts()[:20].index\n",
    "# for i in range(len(top_twenty_articles)):\n",
    "#     article_style_df = styles[styles[\"articleType\"] == top_twenty_articles[i]][:200]\n",
    "#     article_ids = article_style_df.id.values.tolist()\n",
    "#     for j in range(len(article_ids)):\n",
    "#         image_name = article_ids[j]\n",
    "#         image_path = IMG_DIR + \"/\" + f\"{image_name}.jpg\"\n",
    "#         os.makedirs(top_twenty_articles[i], exist_ok=True)\n",
    "#         image_open = Image.open(image_path)\n",
    "#         save_dir = os.path.join(working_dir, top_twenty_articles[i])\n",
    "#         img_save_dir = os.path.join(save_dir, f\"{image_name}.jpg\")\n",
    "#         image_open.save(img_save_dir)"
   ]
  },
  {
   "cell_type": "code",
   "execution_count": 9,
   "id": "425a07d0",
   "metadata": {
    "execution": {
     "iopub.execute_input": "2024-11-25T15:44:01.934494Z",
     "iopub.status.busy": "2024-11-25T15:44:01.934157Z",
     "iopub.status.idle": "2024-11-25T15:47:17.769823Z",
     "shell.execute_reply": "2024-11-25T15:47:17.768889Z"
    },
    "papermill": {
     "duration": 195.842163,
     "end_time": "2024-11-25T15:47:17.772281",
     "exception": false,
     "start_time": "2024-11-25T15:44:01.930118",
     "status": "completed"
    },
    "tags": []
   },
   "outputs": [],
   "source": [
    "for article_type in top_twenty_articles:\n",
    "    for split in [\"train\", \"val\", \"test\"]:\n",
    "        split_path = os.path.join(working_dir, split, article_type)\n",
    "        os.makedirs(split_path, exist_ok=True)\n",
    "\n",
    "for i in range(len(top_twenty_articles)):\n",
    "    article_style_df = styles[styles[\"articleType\"] == top_twenty_articles[i]][:200]\n",
    "    article_ids = article_style_df.id.values.tolist()\n",
    "\n",
    "    random.shuffle(article_ids)\n",
    "\n",
    "    n_total = len(article_ids)\n",
    "    n_train = int(0.7 * n_total)\n",
    "    n_val = int(0.2 * n_total)\n",
    "\n",
    "    train_ids = article_ids[:n_train]\n",
    "    val_ids = article_ids[n_train:n_train+n_val]\n",
    "    test_ids = article_ids[n_train+n_val:]\n",
    "\n",
    "    for image_id in train_ids:\n",
    "        try:\n",
    "            image_path = os.path.join(IMG_DIR, f\"{image_id}.jpg\")    \n",
    "            save_path = os.path.join(working_dir, \"train\", top_twenty_articles[i], f\"{image_id}.jpg\")\n",
    "            img = Image.open(image_path)\n",
    "            img.save(save_path)\n",
    "        except Exception as e:\n",
    "            print(e)\n",
    "\n",
    "    for image_id in val_ids:\n",
    "        try:\n",
    "            image_path = os.path.join(IMG_DIR, f\"{image_id}.jpg\")    \n",
    "            save_path = os.path.join(working_dir, \"val\", top_twenty_articles[i], f\"{image_id}.jpg\")\n",
    "            img = Image.open(image_path)\n",
    "            img.save(save_path)\n",
    "        except Exception as e:\n",
    "            print(e)\n",
    "\n",
    "    for image_id in test_ids:\n",
    "        try:\n",
    "            image_path = os.path.join(IMG_DIR, f\"{image_id}.jpg\")    \n",
    "            save_path = os.path.join(working_dir, \"test\", top_twenty_articles[i], f\"{image_id}.jpg\")\n",
    "            img = Image.open(image_path)\n",
    "            img.save(save_path)\n",
    "        except Exception as e:\n",
    "            print(e)"
   ]
  },
  {
   "cell_type": "code",
   "execution_count": null,
   "id": "85f78c55",
   "metadata": {
    "papermill": {
     "duration": 0.002991,
     "end_time": "2024-11-25T15:47:17.778849",
     "exception": false,
     "start_time": "2024-11-25T15:47:17.775858",
     "status": "completed"
    },
    "tags": []
   },
   "outputs": [],
   "source": []
  }
 ],
 "metadata": {
  "kaggle": {
   "accelerator": "none",
   "dataSources": [
    {
     "datasetId": 139630,
     "sourceId": 329006,
     "sourceType": "datasetVersion"
    }
   ],
   "dockerImageVersionId": 30786,
   "isGpuEnabled": false,
   "isInternetEnabled": true,
   "language": "python",
   "sourceType": "notebook"
  },
  "kernelspec": {
   "display_name": "Python 3",
   "language": "python",
   "name": "python3"
  },
  "language_info": {
   "codemirror_mode": {
    "name": "ipython",
    "version": 3
   },
   "file_extension": ".py",
   "mimetype": "text/x-python",
   "name": "python",
   "nbconvert_exporter": "python",
   "pygments_lexer": "ipython3",
   "version": "3.10.14"
  },
  "papermill": {
   "default_parameters": {},
   "duration": 200.199658,
   "end_time": "2024-11-25T15:47:18.301695",
   "environment_variables": {},
   "exception": null,
   "input_path": "__notebook__.ipynb",
   "output_path": "__notebook__.ipynb",
   "parameters": {},
   "start_time": "2024-11-25T15:43:58.102037",
   "version": "2.6.0"
  }
 },
 "nbformat": 4,
 "nbformat_minor": 5
}
