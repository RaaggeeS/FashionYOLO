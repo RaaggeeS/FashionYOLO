{
 "cells": [
  {
   "cell_type": "code",
   "execution_count": 1,
   "id": "8770564c",
   "metadata": {
    "_cell_guid": "b1076dfc-b9ad-4769-8c92-a6c4dae69d19",
    "_uuid": "8f2839f25d086af736a60e9eeb907d3b93b6e0e5",
    "execution": {
     "iopub.execute_input": "2024-12-06T02:30:42.808612Z",
     "iopub.status.busy": "2024-12-06T02:30:42.808223Z",
     "iopub.status.idle": "2024-12-06T02:30:55.794318Z",
     "shell.execute_reply": "2024-12-06T02:30:55.792878Z"
    },
    "papermill": {
     "duration": 12.993571,
     "end_time": "2024-12-06T02:30:55.796928",
     "exception": false,
     "start_time": "2024-12-06T02:30:42.803357",
     "status": "completed"
    },
    "tags": []
   },
   "outputs": [
    {
     "name": "stdout",
     "output_type": "stream",
     "text": [
      "Collecting ultralytics\r\n",
      "  Downloading ultralytics-8.3.43-py3-none-any.whl.metadata (35 kB)\r\n",
      "Requirement already satisfied: numpy>=1.23.0 in /opt/conda/lib/python3.10/site-packages (from ultralytics) (1.26.4)\r\n",
      "Requirement already satisfied: matplotlib>=3.3.0 in /opt/conda/lib/python3.10/site-packages (from ultralytics) (3.7.5)\r\n",
      "Requirement already satisfied: opencv-python>=4.6.0 in /opt/conda/lib/python3.10/site-packages (from ultralytics) (4.10.0.84)\r\n",
      "Requirement already satisfied: pillow>=7.1.2 in /opt/conda/lib/python3.10/site-packages (from ultralytics) (10.3.0)\r\n",
      "Requirement already satisfied: pyyaml>=5.3.1 in /opt/conda/lib/python3.10/site-packages (from ultralytics) (6.0.2)\r\n",
      "Requirement already satisfied: requests>=2.23.0 in /opt/conda/lib/python3.10/site-packages (from ultralytics) (2.32.3)\r\n",
      "Requirement already satisfied: scipy>=1.4.1 in /opt/conda/lib/python3.10/site-packages (from ultralytics) (1.14.1)\r\n",
      "Requirement already satisfied: torch>=1.8.0 in /opt/conda/lib/python3.10/site-packages (from ultralytics) (2.4.0+cpu)\r\n",
      "Requirement already satisfied: torchvision>=0.9.0 in /opt/conda/lib/python3.10/site-packages (from ultralytics) (0.19.0+cpu)\r\n",
      "Requirement already satisfied: tqdm>=4.64.0 in /opt/conda/lib/python3.10/site-packages (from ultralytics) (4.66.4)\r\n",
      "Requirement already satisfied: psutil in /opt/conda/lib/python3.10/site-packages (from ultralytics) (5.9.3)\r\n",
      "Requirement already satisfied: py-cpuinfo in /opt/conda/lib/python3.10/site-packages (from ultralytics) (9.0.0)\r\n",
      "Requirement already satisfied: pandas>=1.1.4 in /opt/conda/lib/python3.10/site-packages (from ultralytics) (2.2.3)\r\n",
      "Requirement already satisfied: seaborn>=0.11.0 in /opt/conda/lib/python3.10/site-packages (from ultralytics) (0.12.2)\r\n",
      "Collecting ultralytics-thop>=2.0.0 (from ultralytics)\r\n",
      "  Downloading ultralytics_thop-2.0.12-py3-none-any.whl.metadata (9.4 kB)\r\n",
      "Requirement already satisfied: contourpy>=1.0.1 in /opt/conda/lib/python3.10/site-packages (from matplotlib>=3.3.0->ultralytics) (1.2.1)\r\n",
      "Requirement already satisfied: cycler>=0.10 in /opt/conda/lib/python3.10/site-packages (from matplotlib>=3.3.0->ultralytics) (0.12.1)\r\n",
      "Requirement already satisfied: fonttools>=4.22.0 in /opt/conda/lib/python3.10/site-packages (from matplotlib>=3.3.0->ultralytics) (4.53.0)\r\n",
      "Requirement already satisfied: kiwisolver>=1.0.1 in /opt/conda/lib/python3.10/site-packages (from matplotlib>=3.3.0->ultralytics) (1.4.5)\r\n",
      "Requirement already satisfied: packaging>=20.0 in /opt/conda/lib/python3.10/site-packages (from matplotlib>=3.3.0->ultralytics) (21.3)\r\n",
      "Requirement already satisfied: pyparsing>=2.3.1 in /opt/conda/lib/python3.10/site-packages (from matplotlib>=3.3.0->ultralytics) (3.1.2)\r\n",
      "Requirement already satisfied: python-dateutil>=2.7 in /opt/conda/lib/python3.10/site-packages (from matplotlib>=3.3.0->ultralytics) (2.9.0.post0)\r\n",
      "Requirement already satisfied: pytz>=2020.1 in /opt/conda/lib/python3.10/site-packages (from pandas>=1.1.4->ultralytics) (2024.1)\r\n",
      "Requirement already satisfied: tzdata>=2022.7 in /opt/conda/lib/python3.10/site-packages (from pandas>=1.1.4->ultralytics) (2024.1)\r\n",
      "Requirement already satisfied: charset-normalizer<4,>=2 in /opt/conda/lib/python3.10/site-packages (from requests>=2.23.0->ultralytics) (3.3.2)\r\n",
      "Requirement already satisfied: idna<4,>=2.5 in /opt/conda/lib/python3.10/site-packages (from requests>=2.23.0->ultralytics) (3.7)\r\n",
      "Requirement already satisfied: urllib3<3,>=1.21.1 in /opt/conda/lib/python3.10/site-packages (from requests>=2.23.0->ultralytics) (1.26.18)\r\n",
      "Requirement already satisfied: certifi>=2017.4.17 in /opt/conda/lib/python3.10/site-packages (from requests>=2.23.0->ultralytics) (2024.6.2)\r\n",
      "Requirement already satisfied: filelock in /opt/conda/lib/python3.10/site-packages (from torch>=1.8.0->ultralytics) (3.15.1)\r\n",
      "Requirement already satisfied: typing-extensions>=4.8.0 in /opt/conda/lib/python3.10/site-packages (from torch>=1.8.0->ultralytics) (4.12.2)\r\n",
      "Requirement already satisfied: sympy in /opt/conda/lib/python3.10/site-packages (from torch>=1.8.0->ultralytics) (1.13.1)\r\n",
      "Requirement already satisfied: networkx in /opt/conda/lib/python3.10/site-packages (from torch>=1.8.0->ultralytics) (3.3)\r\n",
      "Requirement already satisfied: jinja2 in /opt/conda/lib/python3.10/site-packages (from torch>=1.8.0->ultralytics) (3.1.4)\r\n",
      "Requirement already satisfied: fsspec in /opt/conda/lib/python3.10/site-packages (from torch>=1.8.0->ultralytics) (2024.9.0)\r\n",
      "Requirement already satisfied: six>=1.5 in /opt/conda/lib/python3.10/site-packages (from python-dateutil>=2.7->matplotlib>=3.3.0->ultralytics) (1.16.0)\r\n",
      "Requirement already satisfied: MarkupSafe>=2.0 in /opt/conda/lib/python3.10/site-packages (from jinja2->torch>=1.8.0->ultralytics) (2.1.5)\r\n",
      "Requirement already satisfied: mpmath<1.4,>=1.1.0 in /opt/conda/lib/python3.10/site-packages (from sympy->torch>=1.8.0->ultralytics) (1.3.0)\r\n",
      "Downloading ultralytics-8.3.43-py3-none-any.whl (898 kB)\r\n",
      "\u001b[2K   \u001b[90m━━━━━━━━━━━━━━━━━━━━━━━━━━━━━━━━━━━━━━━━\u001b[0m \u001b[32m898.4/898.4 kB\u001b[0m \u001b[31m29.3 MB/s\u001b[0m eta \u001b[36m0:00:00\u001b[0m\r\n",
      "\u001b[?25hDownloading ultralytics_thop-2.0.12-py3-none-any.whl (26 kB)\r\n",
      "Installing collected packages: ultralytics-thop, ultralytics\r\n",
      "Successfully installed ultralytics-8.3.43 ultralytics-thop-2.0.12\r\n"
     ]
    }
   ],
   "source": [
    "!pip install ultralytics"
   ]
  },
  {
   "cell_type": "code",
   "execution_count": 2,
   "id": "99a37945",
   "metadata": {
    "execution": {
     "iopub.execute_input": "2024-12-06T02:30:55.806356Z",
     "iopub.status.busy": "2024-12-06T02:30:55.805944Z",
     "iopub.status.idle": "2024-12-06T02:30:57.322384Z",
     "shell.execute_reply": "2024-12-06T02:30:57.321186Z"
    },
    "papermill": {
     "duration": 1.524106,
     "end_time": "2024-12-06T02:30:57.324974",
     "exception": false,
     "start_time": "2024-12-06T02:30:55.800868",
     "status": "completed"
    },
    "tags": []
   },
   "outputs": [],
   "source": [
    "import os\n",
    "from sklearn.model_selection import train_test_split\n",
    "import shutil"
   ]
  },
  {
   "cell_type": "code",
   "execution_count": 3,
   "id": "81248885",
   "metadata": {
    "execution": {
     "iopub.execute_input": "2024-12-06T02:30:57.334228Z",
     "iopub.status.busy": "2024-12-06T02:30:57.333617Z",
     "iopub.status.idle": "2024-12-06T02:30:57.339223Z",
     "shell.execute_reply": "2024-12-06T02:30:57.337876Z"
    },
    "papermill": {
     "duration": 0.012552,
     "end_time": "2024-12-06T02:30:57.341359",
     "exception": false,
     "start_time": "2024-12-06T02:30:57.328807",
     "status": "completed"
    },
    "tags": []
   },
   "outputs": [],
   "source": [
    "MEN_DIR = \"/kaggle/input/deepfashion/inshop/img/MEN\"\n",
    "WMEN_DIR = \"/kaggle/input/deepfashion/inshop/img/WOMEN\"\n",
    "OUTPUT_DIR = \"/kaggle/working/\""
   ]
  },
  {
   "cell_type": "code",
   "execution_count": 4,
   "id": "7189a8dd",
   "metadata": {
    "execution": {
     "iopub.execute_input": "2024-12-06T02:30:57.350688Z",
     "iopub.status.busy": "2024-12-06T02:30:57.350297Z",
     "iopub.status.idle": "2024-12-06T02:30:57.356382Z",
     "shell.execute_reply": "2024-12-06T02:30:57.355261Z"
    },
    "papermill": {
     "duration": 0.013191,
     "end_time": "2024-12-06T02:30:57.358574",
     "exception": false,
     "start_time": "2024-12-06T02:30:57.345383",
     "status": "completed"
    },
    "tags": []
   },
   "outputs": [],
   "source": [
    "train_dir = os.path.join(OUTPUT_DIR, \"train\")\n",
    "val_dir = os.path.join(OUTPUT_DIR, \"val\")\n",
    "os.makedirs(train_dir, exist_ok=True)\n",
    "os.makedirs(val_dir, exist_ok=True)"
   ]
  },
  {
   "cell_type": "code",
   "execution_count": 5,
   "id": "e3a7ff49",
   "metadata": {
    "execution": {
     "iopub.execute_input": "2024-12-06T02:30:57.367473Z",
     "iopub.status.busy": "2024-12-06T02:30:57.367119Z",
     "iopub.status.idle": "2024-12-06T02:30:57.372198Z",
     "shell.execute_reply": "2024-12-06T02:30:57.371201Z"
    },
    "papermill": {
     "duration": 0.012266,
     "end_time": "2024-12-06T02:30:57.374545",
     "exception": false,
     "start_time": "2024-12-06T02:30:57.362279",
     "status": "completed"
    },
    "tags": []
   },
   "outputs": [],
   "source": [
    "men_classes = [\"Denim\", \"Jackets_Vests\", \"Pants\"]\n",
    "women_classes = [\"Blouses_Shirts\", \"Cardigans\", \"Denim\"]"
   ]
  },
  {
   "cell_type": "code",
   "execution_count": 6,
   "id": "64832c99",
   "metadata": {
    "execution": {
     "iopub.execute_input": "2024-12-06T02:30:57.384296Z",
     "iopub.status.busy": "2024-12-06T02:30:57.383895Z",
     "iopub.status.idle": "2024-12-06T02:31:10.455428Z",
     "shell.execute_reply": "2024-12-06T02:31:10.454199Z"
    },
    "papermill": {
     "duration": 13.079686,
     "end_time": "2024-12-06T02:31:10.457971",
     "exception": false,
     "start_time": "2024-12-06T02:30:57.378285",
     "status": "completed"
    },
    "tags": []
   },
   "outputs": [],
   "source": [
    "train_images_dirs = []\n",
    "val_images_dirs = []\n",
    "train_img = []\n",
    "val_img = []\n",
    "\n",
    "for cls in men_classes:\n",
    "    cls_path = os.path.join(MEN_DIR, cls)\n",
    "    \n",
    "    items_list = []\n",
    "    for items in os.listdir(cls_path):\n",
    "        imgs_dir = os.path.join(cls_path, items)\n",
    "        items_list.append(imgs_dir)\n",
    "\n",
    "    train_dirs, val_dirs = train_test_split(items_list, test_size=0.2, shuffle=False)\n",
    "\n",
    "    train_images_dirs.extend(train_dirs)\n",
    "    val_images_dirs.extend(val_dirs)\n",
    "\n",
    "    for train_images in train_images_dirs:\n",
    "        for images in os.listdir(train_images):\n",
    "            dest_path = os.path.join(train_images, images)\n",
    "            train_img.append(dest_path)\n",
    "    \n",
    "    for val_images in val_images_dirs:\n",
    "        for images in os.listdir(val_images):\n",
    "            dest_path = os.path.join(val_images, images)\n",
    "            val_img.append(dest_path)\n",
    "\n",
    "    for img_path in train_img:\n",
    "        dest_path = os.path.join(train_dir, cls)\n",
    "        os.makedirs(dest_path, exist_ok=True)\n",
    "        shutil.copy(img_path, dest_path)\n",
    "\n",
    "    for img_path in val_img:\n",
    "        dest_path = os.path.join(val_dir, cls)\n",
    "        os.makedirs(dest_path, exist_ok=True)\n",
    "        shutil.copy(img_path, dest_path)"
   ]
  },
  {
   "cell_type": "code",
   "execution_count": 7,
   "id": "3e5d5eea",
   "metadata": {
    "execution": {
     "iopub.execute_input": "2024-12-06T02:31:10.466914Z",
     "iopub.status.busy": "2024-12-06T02:31:10.466489Z",
     "iopub.status.idle": "2024-12-06T02:31:10.474286Z",
     "shell.execute_reply": "2024-12-06T02:31:10.473230Z"
    },
    "papermill": {
     "duration": 0.014688,
     "end_time": "2024-12-06T02:31:10.476502",
     "exception": false,
     "start_time": "2024-12-06T02:31:10.461814",
     "status": "completed"
    },
    "tags": []
   },
   "outputs": [
    {
     "data": {
      "text/plain": [
       "58"
      ]
     },
     "execution_count": 7,
     "metadata": {},
     "output_type": "execute_result"
    }
   ],
   "source": [
    "len(train_images)"
   ]
  },
  {
   "cell_type": "code",
   "execution_count": 8,
   "id": "2ecd0e6d",
   "metadata": {
    "execution": {
     "iopub.execute_input": "2024-12-06T02:31:10.485587Z",
     "iopub.status.busy": "2024-12-06T02:31:10.485227Z",
     "iopub.status.idle": "2024-12-06T02:32:59.476912Z",
     "shell.execute_reply": "2024-12-06T02:32:59.475593Z"
    },
    "papermill": {
     "duration": 108.999362,
     "end_time": "2024-12-06T02:32:59.479624",
     "exception": false,
     "start_time": "2024-12-06T02:31:10.480262",
     "status": "completed"
    },
    "tags": []
   },
   "outputs": [],
   "source": [
    "train_images_dirs = []\n",
    "val_images_dirs = []\n",
    "train_img = []\n",
    "val_img = []\n",
    "\n",
    "for cls in women_classes:\n",
    "    cls_path = os.path.join(WMEN_DIR, cls)\n",
    "    \n",
    "    items_list = []\n",
    "    for items in os.listdir(cls_path):\n",
    "        imgs_dir = os.path.join(cls_path, items)\n",
    "        items_list.append(imgs_dir)\n",
    "\n",
    "    train_dirs, val_dirs = train_test_split(items_list, test_size=0.2, shuffle=False)\n",
    "\n",
    "    train_images_dirs.extend(train_dirs)\n",
    "    val_images_dirs.extend(val_dirs)\n",
    "\n",
    "    for train_images in train_images_dirs:\n",
    "        for images in os.listdir(train_images):\n",
    "            dest_path = os.path.join(train_images, images)\n",
    "            train_img.append(dest_path)\n",
    "    \n",
    "    for val_images in val_images_dirs:\n",
    "        for images in os.listdir(val_images):\n",
    "            dest_path = os.path.join(val_images, images)\n",
    "            val_img.append(dest_path)\n",
    "\n",
    "    for img_path in train_img:\n",
    "        dest_path = os.path.join(train_dir, cls)\n",
    "        os.makedirs(dest_path, exist_ok=True)\n",
    "        shutil.copy(img_path, dest_path)\n",
    "\n",
    "    for img_path in val_img:\n",
    "        dest_path = os.path.join(val_dir, cls)\n",
    "        os.makedirs(dest_path, exist_ok=True)\n",
    "        shutil.copy(img_path, dest_path)"
   ]
  },
  {
   "cell_type": "code",
   "execution_count": null,
   "id": "af5f1e00",
   "metadata": {
    "papermill": {
     "duration": 0.003482,
     "end_time": "2024-12-06T02:32:59.488532",
     "exception": false,
     "start_time": "2024-12-06T02:32:59.485050",
     "status": "completed"
    },
    "tags": []
   },
   "outputs": [],
   "source": []
  }
 ],
 "metadata": {
  "kaggle": {
   "accelerator": "none",
   "dataSources": [
    {
     "datasetId": 2522429,
     "sourceId": 4281185,
     "sourceType": "datasetVersion"
    }
   ],
   "dockerImageVersionId": 30804,
   "isGpuEnabled": false,
   "isInternetEnabled": true,
   "language": "python",
   "sourceType": "notebook"
  },
  "kernelspec": {
   "display_name": "Python 3",
   "language": "python",
   "name": "python3"
  },
  "language_info": {
   "codemirror_mode": {
    "name": "ipython",
    "version": 3
   },
   "file_extension": ".py",
   "mimetype": "text/x-python",
   "name": "python",
   "nbconvert_exporter": "python",
   "pygments_lexer": "ipython3",
   "version": "3.10.14"
  },
  "papermill": {
   "default_parameters": {},
   "duration": 140.061695,
   "end_time": "2024-12-06T02:33:00.015597",
   "environment_variables": {},
   "exception": null,
   "input_path": "__notebook__.ipynb",
   "output_path": "__notebook__.ipynb",
   "parameters": {},
   "start_time": "2024-12-06T02:30:39.953902",
   "version": "2.6.0"
  }
 },
 "nbformat": 4,
 "nbformat_minor": 5
}
